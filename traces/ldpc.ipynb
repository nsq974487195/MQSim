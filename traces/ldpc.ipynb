{
 "cells": [
  {
   "cell_type": "code",
   "execution_count": 22,
   "metadata": {},
   "outputs": [
    {
     "name": "stdout",
     "output_type": "stream",
     "text": [
      "K: 7 15\n",
      "[0 0 0 0 0 0 1] [0 0 0 0 0 0 1] [0 0 0 0 0 0 1 0 0 0 0 0 0 0 0] 0\n"
     ]
    }
   ],
   "source": [
    "import numpy as np\n",
    "from pyldpc import make_ldpc, encode, decode, get_message\n",
    "import matplotlib.pyplot as plt\n",
    "%matplotlib inline\n",
    "\n",
    "\n",
    "n = 15\n",
    "d_v = 4\n",
    "d_c = 5\n",
    "snr = 10\n",
    "H, G = make_ldpc(n, d_v, d_c, systematic=True, sparse=True)\n",
    "#print(H,G)\n",
    "k = G.shape[1]\n",
    "\n",
    "v = np.random.randint(2, size=k)\n",
    "#print(\"v:\",v)\n",
    "y = encode(G, v, snr)\n",
    "print(\"K:\",k,len(y))\n",
    "d = decode(H, y, snr, maxiter=100, log=True)\n",
    "#print(\"d\",d)\n",
    "x = get_message(G, d)\n",
    "\n",
    "print(x,v,d,abs(x - v).sum())"
   ]
  },
  {
   "cell_type": "code",
   "execution_count": null,
   "metadata": {},
   "outputs": [],
   "source": []
  }
 ],
 "metadata": {
  "kernelspec": {
   "display_name": "Python 3",
   "language": "python",
   "name": "python3"
  },
  "language_info": {
   "codemirror_mode": {
    "name": "ipython",
    "version": 3
   },
   "file_extension": ".py",
   "mimetype": "text/x-python",
   "name": "python",
   "nbconvert_exporter": "python",
   "pygments_lexer": "ipython3",
   "version": "3.7.5"
  }
 },
 "nbformat": 4,
 "nbformat_minor": 4
}
