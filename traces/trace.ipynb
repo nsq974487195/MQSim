{
 "cells": [
  {
   "cell_type": "code",
   "execution_count": 1,
   "metadata": {},
   "outputs": [],
   "source": [
    "import sys\n",
    "\n",
    "from openpyxl import Workbook\n",
    "from openpyxl.utils import get_column_letter\n",
    "\n",
    "import pandas as pd\n",
    "\n",
    "import matplotlib.pyplot as plt\n",
    "\n",
    "\n",
    "%matplotlib inline"
   ]
  },
  {
   "cell_type": "code",
   "execution_count": 2,
   "metadata": {},
   "outputs": [
    {
     "name": "stdout",
     "output_type": "stream",
     "text": [
      "初始化完成 maptable: 33554432 284.0444641113281\n",
      "trace:WDEV_0 update_avg:9355.576746ns, update_avg / (10 ** 6):0.009356s,update_min:999824289832.847656ns,update_max:16261.785338ns\n",
      "<0的百分比:0.999824 >0和<0的百分比:0.000130 \n"
     ]
    }
   ],
   "source": [
    "    tracename=\"WDEV_0\"\n",
    "    file = open(tracename)\n",
    "\n",
    "    page_size = 4\n",
    "\n",
    "    update_count = 0\n",
    "\n",
    "    entry = {\"lpn\": 0, \"access_time\": 0.0, \"update_time\": 0.0, \"update_count\": 0, \"update_min\": 0, \"update_max\": 0}\n",
    "    \n",
    "\n",
    "    large_lpn = 0\n",
    "\n",
    "    capacity = 32 * 1024 * 1024  # 128G SSD = 32 * 1024* 1024*4KB\n",
    "    \n",
    "    #maptable = pd.DataFrame([ [0.0,0.0,0,0.0,0.0,0.0,0] for i in range(0, capacity)],columns=['access_time', 'update_interval', 'update_count', 'update_avg', \"update_min\", \"update_max\", \"write_flag\"])\n",
    "    maptable = [{\"access_time\": 0.0, \"update_interval\": 0.0, \"update_count\": 0, \"update_avg\": 0.0, \"update_min\": 1.0 * 10**12, \"update_max\": 0.0, \"write_flag\": 0} for i in range(0, capacity)]  # write_flag =1 表示已经被写\n",
    "\n",
    "    print(\"初始化完成 maptable:\", len(maptable), sys.getsizeof(maptable) / (1024 * 1024))\n",
    "\n",
    "\n",
    "    #print(\"初始化完成 maptable:\", maptable.index,maptable.columns, sys.getsizeof(maptable) / (1024 * 1024))\n",
    "    \n",
    "    \n",
    "    #trace df\n",
    "    #tracedf=pd.read_table(tracename,sep=\" \",header=None)\n",
    "\n",
    "    #file = open(tracename)\n",
    "\n",
    "    while 1:\n",
    "        lines = file.readlines(100000)\n",
    "        if not lines:\n",
    "            break\n",
    "        for line in lines:\n",
    "\n",
    "            tmp = line.split()\n",
    "\n",
    "            #print(tmp)\n",
    "  \n",
    "\n",
    "            if(int(tmp[4]) == 1):  # read\n",
    "\n",
    "                first_lpn = int(int(tmp[2]) / page_size) % capacity\n",
    "\n",
    "                while(first_lpn <= int(int(tmp[2]) / page_size + int(tmp[3]) / page_size) % capacity):\n",
    "\n",
    "                    #print(\"first_lpn\", first_lpn)\n",
    "\n",
    "                    if(maptable[first_lpn]['write_flag'] == 1):  # 被写过\n",
    "\n",
    "                        # maptable[int(int(tmp[2]) / page_size)]['access_time']=float(tmp[0]) #本次访问的时间\n",
    "\n",
    "                        maptable[first_lpn]['update_interval'] = float(tmp[0]) - maptable[first_lpn]['access_time']  # 本次访问的时间\n",
    "\n",
    "                        maptable[first_lpn]['update_count'] = maptable[first_lpn]['update_count'] + 1\n",
    "\n",
    "                        # if(maptable[first_lpn]['update_interval'] <= 10):\n",
    "\n",
    "                        #     print(tmp)\n",
    "\n",
    "                        if(maptable[first_lpn]['update_min'] > maptable[first_lpn]['update_interval']):\n",
    "\n",
    "                            maptable[first_lpn]['update_min'] = maptable[first_lpn]['update_interval']\n",
    "\n",
    "                        if(maptable[first_lpn]['update_max'] < maptable[first_lpn]['update_interval']):\n",
    "\n",
    "                            maptable[first_lpn]['update_max'] = maptable[first_lpn]['update_interval']\n",
    "\n",
    "                        maptable[first_lpn]['update_avg'] = maptable[first_lpn]['update_avg'] + (maptable[first_lpn]['update_interval'] - maptable[first_lpn]['update_avg']) / maptable[first_lpn]['update_count']\n",
    "\n",
    "                    first_lpn = first_lpn + 1\n",
    "\n",
    "            elif(int(tmp[4]) == 0):\n",
    "\n",
    "                first_lpn = int(int(tmp[2]) / page_size) % capacity\n",
    "\n",
    "                while(first_lpn <= int(int(tmp[2]) / page_size + int(tmp[3]) / page_size) % capacity):\n",
    "\n",
    "                    maptable[first_lpn]['write_flag'] = 1\n",
    "\n",
    "                    maptable[first_lpn]['access_time'] = float(tmp[0])\n",
    "\n",
    "                    first_lpn = first_lpn + 1\n",
    "\n",
    "    \n",
    "    maptable=pd.DataFrame(maptable,columns=['access_time', 'update_interval', 'update_count', 'update_avg', \"update_min\", \"update_max\", \"write_flag\"])\n",
    "\n",
    "    print(\"trace:%s update_avg:%fns, update_avg / (10 ** 6):%fs,update_min:%fns,update_max:%fns\" % (tracename, maptable['update_avg'].mean(), maptable['update_avg'].mean() / (10 ** 6), maptable['update_min'].mean(), maptable['update_max'].mean()))\n",
    "\n",
    "    maptable.sort_values(\"update_avg\",inplace=True)\n",
    "    \n",
    "    print(\"<0的百分比:%f >0和<0的百分比:%f \"%(len(maptable[(maptable['update_avg']==0.0)].index)/len(maptable.index),len(maptable[(maptable['update_avg']>0.0) & (maptable['update_avg']<100.0*10**6)].index)/len(maptable.index)))\n",
    "    \n"
   ]
  },
  {
   "cell_type": "code",
   "execution_count": 3,
   "metadata": {},
   "outputs": [
    {
     "name": "stdout",
     "output_type": "stream",
     "text": [
      "5896 437294645.085937\n",
      "5896 0.04492199420928955\n"
     ]
    },
    {
     "data": {
      "text/plain": [
       "<matplotlib.axes._subplots.AxesSubplot at 0x1ddd96fba08>"
      ]
     },
     "execution_count": 3,
     "metadata": {},
     "output_type": "execute_result"
    },
    {
     "data": {
      "image/png": "[encoded data removed]",
      "text/plain": [
       "<Figure size 432x288 with 1 Axes>"
      ]
     },
     "metadata": {
      "needs_background": "light"
     },
     "output_type": "display_data"
    }
   ],
   "source": [
    "import numpy as np\n",
    "\n",
    "updatetable=maptable[(maptable['update_count']!=0)]#排除更新时间为0的\n",
    "\n",
    "print(len(updatetable.index),updatetable['update_avg'].max())\n",
    "\n",
    "print(len(updatetable.index),updatetable['update_avg'].min())\n",
    "\n",
    "dx=0.01\n",
    "\n",
    "#x=np.arange(0, int(updatetable['update_avg'].max()), dx) \n",
    "updatetable['update_avg'].plot(kind='kde',style='k--')\n",
    "\n",
    "import seaborn as sns\n",
    "sns.set() \n",
    "#sns.kdeplot(updatetable['update_avg'].tolist())\n",
    "sns.distplot(updatetable['update_avg'].tolist(),hist=False,kde_kws={'clip': (0.0, int(updatetable['update_avg'].max()))})\n",
    "#sns.distplot(updatetable['update_avg'].tolist(),kde=False)"
   ]
  },
  {
   "cell_type": "code",
   "execution_count": 36,
   "metadata": {},
   "outputs": [
    {
     "data": {
      "text/plain": [
       "386018     4.492199e-02\n",
       "386017     4.492199e-02\n",
       "386016     4.492199e-02\n",
       "386015     4.492199e-02\n",
       "386014     4.492199e-02\n",
       "               ...     \n",
       "4706358    4.219129e+08\n",
       "844234     4.267485e+08\n",
       "531713     4.372946e+08\n",
       "531712     4.372946e+08\n",
       "531714     4.372946e+08\n",
       "Name: update_avg, Length: 5896, dtype: float64"
      ]
     },
     "execution_count": 36,
     "metadata": {},
     "output_type": "execute_result"
    }
   ],
   "source": []
  },
  {
   "cell_type": "code",
   "execution_count": null,
   "metadata": {},
   "outputs": [],
   "source": [
    "    updatetable=maptable[(maptable['update_avg']>0.0)]\n",
    "    \n",
    "    plt.figure()\n",
    "    \n",
    "    updatetable['update_avg'].plot(kind='kde',style='k--')\n",
    "    #updatetable['update_avg'].hist( cumulative = True )\n",
    "\n",
    "    maptable = []"
   ]
  }
 ],
 "metadata": {
  "kernelspec": {
   "display_name": "Python 3",
   "language": "python",
   "name": "python3"
  },
  "language_info": {
   "codemirror_mode": {
    "name": "ipython",
    "version": 3
   },
   "file_extension": ".py",
   "mimetype": "text/x-python",
   "name": "python",
   "nbconvert_exporter": "python",
   "pygments_lexer": "ipython3",
   "version": "3.7.5"
  }
 },
 "nbformat": 4,
 "nbformat_minor": 4
}
